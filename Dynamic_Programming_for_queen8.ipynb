{
  "nbformat": 4,
  "nbformat_minor": 0,
  "metadata": {
    "colab": {
      "name": "Dynamic Programming for queen8.ipynb",
      "provenance": [],
      "authorship_tag": "ABX9TyOPoFWMt+OKlLNdvwZi7WwX",
      "include_colab_link": true
    },
    "kernelspec": {
      "name": "python3",
      "display_name": "Python 3"
    },
    "language_info": {
      "name": "python"
    }
  },
  "cells": [
    {
      "cell_type": "markdown",
      "metadata": {
        "id": "view-in-github",
        "colab_type": "text"
      },
      "source": [
        "<a href=\"https://colab.research.google.com/github/helianakhjavani/Reinforcement-Learning/blob/main/Dynamic_Programming_for_queen8.ipynb\" target=\"_parent\"><img src=\"https://colab.research.google.com/assets/colab-badge.svg\" alt=\"Open In Colab\"/></a>"
      ]
    },
    {
      "cell_type": "code",
      "metadata": {
        "id": "AKZ5M8dV3ktG"
      },
      "source": [
        "import numpy as np"
      ],
      "execution_count": 1,
      "outputs": []
    },
    {
      "cell_type": "markdown",
      "metadata": {
        "id": "VFK7C9fv3yxc"
      },
      "source": [
        "#creating 8*8 board"
      ]
    },
    {
      "cell_type": "code",
      "metadata": {
        "id": "xjYk5klM3sOu"
      },
      "source": [
        "s = 8"
      ],
      "execution_count": 4,
      "outputs": []
    },
    {
      "cell_type": "markdown",
      "metadata": {
        "id": "9SxrEHqE31Nb"
      },
      "source": [
        "board_state_memory is a python dictionary to chache the result"
      ]
    },
    {
      "cell_type": "code",
      "metadata": {
        "id": "ofY4nwB23xD7"
      },
      "source": [
        "board_state_memory = {}"
      ],
      "execution_count": 31,
      "outputs": []
    },
    {
      "cell_type": "markdown",
      "metadata": {
        "id": "xj8OxZKH4FV9"
      },
      "source": [
        "initializing board"
      ]
    },
    {
      "cell_type": "code",
      "metadata": {
        "colab": {
          "base_uri": "https://localhost:8080/"
        },
        "id": "uphinO3L4Goj",
        "outputId": "0615b072-cbf9-4f2f-f209-9691cfa5ff1c"
      },
      "source": [
        "board = np.zeros((s,s), np.int8)\n",
        "board"
      ],
      "execution_count": 6,
      "outputs": [
        {
          "output_type": "execute_result",
          "data": {
            "text/plain": [
              "array([[0, 0, 0, 0, 0, 0, 0, 0],\n",
              "       [0, 0, 0, 0, 0, 0, 0, 0],\n",
              "       [0, 0, 0, 0, 0, 0, 0, 0],\n",
              "       [0, 0, 0, 0, 0, 0, 0, 0],\n",
              "       [0, 0, 0, 0, 0, 0, 0, 0],\n",
              "       [0, 0, 0, 0, 0, 0, 0, 0],\n",
              "       [0, 0, 0, 0, 0, 0, 0, 0],\n",
              "       [0, 0, 0, 0, 0, 0, 0, 0]], dtype=int8)"
            ]
          },
          "metadata": {
            "tags": []
          },
          "execution_count": 6
        }
      ]
    },
    {
      "cell_type": "code",
      "metadata": {
        "id": "Z7-0GWTj4b43"
      },
      "source": [
        "def create_board_string(board):\n",
        "  board_string = ''\n",
        "  for i in range(s):\n",
        "    for j in range(s):\n",
        "      board_string += str(board[i][j])\n",
        "  return board_string"
      ],
      "execution_count": 10,
      "outputs": []
    },
    {
      "cell_type": "code",
      "metadata": {
        "colab": {
          "base_uri": "https://localhost:8080/",
          "height": 35
        },
        "id": "vySWwfM940Dq",
        "outputId": "461d3a58-b07e-49c4-c75e-de740852637b"
      },
      "source": [
        "create_board_string(board)"
      ],
      "execution_count": 11,
      "outputs": [
        {
          "output_type": "execute_result",
          "data": {
            "application/vnd.google.colaboratory.intrinsic+json": {
              "type": "string"
            },
            "text/plain": [
              "'0000000000000000000000000000000000000000000000000000000000000000'"
            ]
          },
          "metadata": {
            "tags": []
          },
          "execution_count": 11
        }
      ]
    },
    {
      "cell_type": "code",
      "metadata": {
        "id": "jx-xvhVF5RUf"
      },
      "source": [
        "board_copy = board.copy()\n",
        "board_copy[0,1] = 1"
      ],
      "execution_count": 12,
      "outputs": []
    },
    {
      "cell_type": "code",
      "metadata": {
        "colab": {
          "base_uri": "https://localhost:8080/",
          "height": 35
        },
        "id": "BQdZplLj5XJy",
        "outputId": "9fccfcb5-9f4b-417c-c0b5-beaa68cf720a"
      },
      "source": [
        "create_board_string(board_copy)"
      ],
      "execution_count": 14,
      "outputs": [
        {
          "output_type": "execute_result",
          "data": {
            "application/vnd.google.colaboratory.intrinsic+json": {
              "type": "string"
            },
            "text/plain": [
              "'0100000000000000000000000000000000000000000000000000000000000000'"
            ]
          },
          "metadata": {
            "tags": []
          },
          "execution_count": 14
        }
      ]
    },
    {
      "cell_type": "code",
      "metadata": {
        "id": "MKhYMICp5dPY"
      },
      "source": [
        "def is_board_safe(board):\n",
        "    \n",
        "    board_key = create_board_string(board)\n",
        "    \n",
        "    if board_key in board_state_memory:\n",
        "        print('Using cached information')\n",
        "        return board_state_memory[board_key]\n",
        "    \n",
        "    # Find whether any row sum is greater than 1\n",
        "    row_sum = np.sum(board, axis=1)\n",
        "    if len(row_sum[np.where(row_sum > 1)]) > 0:\n",
        "        board_state_memory[board_key] = False\n",
        "        return False\n",
        "    \n",
        "    # Find whether any col sum is greater than 1\n",
        "    col_sum = np.sum(board, axis=0)\n",
        "    if len(col_sum[np.where(col_sum > 1)]) > 0:\n",
        "        board_state_memory[board_key] = False\n",
        "        return False\n",
        "\n",
        "    # Get lower-left-to-upper-right diagonals\n",
        "    #::-1 returns rows in reverse\n",
        "    #\\ means you can write your code in many lines\n",
        "    diags = [board[::-1,:].diagonal(i)\\\n",
        "             for i in range(-board.shape[0] + 1, board.shape[1])]\n",
        "    \n",
        "    # Add to it upper-left-to-lower-right diagonals\n",
        "    diags.extend(board.diagonal(i)\\\n",
        "                 for i in range(board.shape[1] - 1, -board.shape[0], -1))\n",
        "    \n",
        "    for diag in diags:\n",
        "        if np.sum(diag) > 1:\n",
        "            board_state_memory[board_key] = False\n",
        "            return False\n",
        "    \n",
        "    board_state_memory[board_key] = True\n",
        "\n",
        "    return True "
      ],
      "execution_count": 30,
      "outputs": []
    },
    {
      "cell_type": "code",
      "metadata": {
        "id": "p6X1-1xJIEmg"
      },
      "source": [
        "board_copy = board.copy()\n",
        "board_copy[0][1]= 1\n",
        "board_copy[0][0] = 1"
      ],
      "execution_count": 28,
      "outputs": []
    },
    {
      "cell_type": "code",
      "metadata": {
        "colab": {
          "base_uri": "https://localhost:8080/"
        },
        "id": "EJMzii_wIPWc",
        "outputId": "d1df5f67-c893-4f8c-b8d3-f3eeed15d643"
      },
      "source": [
        "print(board_copy)\n",
        "is_board_safe(board_copy)"
      ],
      "execution_count": 32,
      "outputs": [
        {
          "output_type": "stream",
          "text": [
            "[[1 1 0 0 0 0 0 0]\n",
            " [0 0 0 0 0 0 0 0]\n",
            " [0 0 0 0 0 0 0 0]\n",
            " [0 0 0 0 0 0 0 0]\n",
            " [0 0 0 0 0 0 0 0]\n",
            " [0 0 0 0 0 0 0 0]\n",
            " [0 0 0 0 0 0 0 0]\n",
            " [0 0 0 0 0 0 0 0]]\n"
          ],
          "name": "stdout"
        },
        {
          "output_type": "execute_result",
          "data": {
            "text/plain": [
              "False"
            ]
          },
          "metadata": {
            "tags": []
          },
          "execution_count": 32
        }
      ]
    },
    {
      "cell_type": "code",
      "metadata": {
        "id": "wukTiDbKIh59"
      },
      "source": [
        "board_copy = board.copy()\n",
        "board_copy[1][0]= 1\n",
        "board_copy[3][0] = 1"
      ],
      "execution_count": 33,
      "outputs": []
    },
    {
      "cell_type": "code",
      "metadata": {
        "colab": {
          "base_uri": "https://localhost:8080/"
        },
        "id": "ERGEXVD7IpJW",
        "outputId": "ddfde37e-7055-42ab-b224-0df41c8f8138"
      },
      "source": [
        "print(board_copy)\n",
        "is_board_safe(board_copy)"
      ],
      "execution_count": 34,
      "outputs": [
        {
          "output_type": "stream",
          "text": [
            "[[0 0 0 0 0 0 0 0]\n",
            " [1 0 0 0 0 0 0 0]\n",
            " [0 0 0 0 0 0 0 0]\n",
            " [1 0 0 0 0 0 0 0]\n",
            " [0 0 0 0 0 0 0 0]\n",
            " [0 0 0 0 0 0 0 0]\n",
            " [0 0 0 0 0 0 0 0]\n",
            " [0 0 0 0 0 0 0 0]]\n"
          ],
          "name": "stdout"
        },
        {
          "output_type": "execute_result",
          "data": {
            "text/plain": [
              "False"
            ]
          },
          "metadata": {
            "tags": []
          },
          "execution_count": 34
        }
      ]
    },
    {
      "cell_type": "code",
      "metadata": {
        "id": "7mpR4N3jIrkC"
      },
      "source": [
        "board_copy = board.copy()\n",
        "board_copy[1][0]= 1\n",
        "board_copy[2][3] = 1\n",
        "board_copy[0][1] = 1"
      ],
      "execution_count": 35,
      "outputs": []
    },
    {
      "cell_type": "code",
      "metadata": {
        "colab": {
          "base_uri": "https://localhost:8080/"
        },
        "id": "DORxqrEXIzPc",
        "outputId": "b99ce37b-90f8-4803-a095-a0fe272ee11b"
      },
      "source": [
        "print(board_copy)\n",
        "is_board_safe(board_copy)"
      ],
      "execution_count": 36,
      "outputs": [
        {
          "output_type": "stream",
          "text": [
            "[[0 1 0 0 0 0 0 0]\n",
            " [1 0 0 0 0 0 0 0]\n",
            " [0 0 0 1 0 0 0 0]\n",
            " [0 0 0 0 0 0 0 0]\n",
            " [0 0 0 0 0 0 0 0]\n",
            " [0 0 0 0 0 0 0 0]\n",
            " [0 0 0 0 0 0 0 0]\n",
            " [0 0 0 0 0 0 0 0]]\n"
          ],
          "name": "stdout"
        },
        {
          "output_type": "execute_result",
          "data": {
            "text/plain": [
              "False"
            ]
          },
          "metadata": {
            "tags": []
          },
          "execution_count": 36
        }
      ]
    },
    {
      "cell_type": "code",
      "metadata": {
        "id": "Cditmq_NI2cm"
      },
      "source": [
        "def place_queen(board, column):\n",
        "    if column >= s:\n",
        "        return True\n",
        "    \n",
        "    for row in range(s):\n",
        "        board[row][column] = 1\n",
        "\n",
        "        safe = False\n",
        "        if is_board_safe(board):\n",
        "            safe = place_queen(board, column + 1)\n",
        "        \n",
        "        if not safe:\n",
        "            board[row][column] = 0\n",
        "        else:\n",
        "            break\n",
        "    \n",
        "    return safe"
      ],
      "execution_count": 47,
      "outputs": []
    },
    {
      "cell_type": "code",
      "metadata": {
        "colab": {
          "base_uri": "https://localhost:8080/"
        },
        "id": "sfSRxelwJvWL",
        "outputId": "f39f4089-abdd-404a-d905-6be1b8598d88"
      },
      "source": [
        "board_state_memory"
      ],
      "execution_count": 48,
      "outputs": [
        {
          "output_type": "execute_result",
          "data": {
            "text/plain": [
              "{'0000000010000000000000001000000000000000000000000000000000000000': False,\n",
              " '0100000010000000000100000000000000000000000000000000000000000000': False,\n",
              " '1000000000000000000000000000000000000000000000000000000000000000': True,\n",
              " '1100000000000000000000000000000000000000000000000000000000000000': False,\n",
              " '1100000001000000000000000000000000000000000000000000000000000000': False,\n",
              " '1100000001000000010000000000000000000000000000000000000000000000': False,\n",
              " '1100000001000000010000000100000000000000000000000000000000000000': False,\n",
              " '1100000001000000010000000100000001000000000000000000000000000000': False,\n",
              " '1100000001000000010000000100000001000000010000000000000000000000': False,\n",
              " '1100000001000000010000000100000001000000010000000100000000000000': False,\n",
              " '1100000001000000010000000100000001000000010000000100000001000000': False,\n",
              " '1100000011000000010000000100000001000000010000000100000001000000': False,\n",
              " '1100000011000000110000000100000001000000010000000100000001000000': False,\n",
              " '1100000011000000110000001100000001000000010000000100000001000000': False,\n",
              " '1100000011000000110000001100000011000000010000000100000001000000': False,\n",
              " '1100000011000000110000001100000011000000110000000100000001000000': False,\n",
              " '1100000011000000110000001100000011000000110000001100000001000000': False,\n",
              " '1100000011000000110000001100000011000000110000001100000011000000': False}"
            ]
          },
          "metadata": {
            "tags": []
          },
          "execution_count": 48
        }
      ]
    },
    {
      "cell_type": "code",
      "metadata": {
        "colab": {
          "base_uri": "https://localhost:8080/"
        },
        "id": "qYabvGJGJyhs",
        "outputId": "27bdc128-9986-4a3e-cc56-af38d1d2a76b"
      },
      "source": [
        "board = np.zeros((s, s), np.int8)\n",
        "placed = place_queen(board, 0)\n",
        "print(placed)"
      ],
      "execution_count": 49,
      "outputs": [
        {
          "output_type": "stream",
          "text": [
            "Using cached information\n",
            "Using cached information\n",
            "True\n"
          ],
          "name": "stdout"
        }
      ]
    },
    {
      "cell_type": "code",
      "metadata": {
        "colab": {
          "base_uri": "https://localhost:8080/"
        },
        "id": "myeKjEiQKaAQ",
        "outputId": "eaf5f6cc-33c5-4f0a-ec8e-89d2944a7ffd"
      },
      "source": [
        "board"
      ],
      "execution_count": 50,
      "outputs": [
        {
          "output_type": "execute_result",
          "data": {
            "text/plain": [
              "array([[1, 0, 0, 0, 0, 0, 0, 0],\n",
              "       [0, 0, 0, 0, 0, 0, 1, 0],\n",
              "       [0, 0, 0, 0, 1, 0, 0, 0],\n",
              "       [0, 0, 0, 0, 0, 0, 0, 1],\n",
              "       [0, 1, 0, 0, 0, 0, 0, 0],\n",
              "       [0, 0, 0, 1, 0, 0, 0, 0],\n",
              "       [0, 0, 0, 0, 0, 1, 0, 0],\n",
              "       [0, 0, 1, 0, 0, 0, 0, 0]], dtype=int8)"
            ]
          },
          "metadata": {
            "tags": []
          },
          "execution_count": 50
        }
      ]
    }
  ]
}